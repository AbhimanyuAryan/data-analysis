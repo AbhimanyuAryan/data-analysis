{
 "cells": [
  {
   "cell_type": "code",
   "execution_count": 57,
   "metadata": {},
   "outputs": [
    {
     "name": "stdout",
     "output_type": "stream",
     "text": [
      "Hello World 23\n"
     ]
    }
   ],
   "source": [
    "# test\n",
    "x = 23\n",
    "println(\"Hello World $x\")"
   ]
  },
  {
   "cell_type": "code",
   "execution_count": 58,
   "metadata": {},
   "outputs": [],
   "source": [
    "using DataFrames\n",
    "using CSV\n",
    "using DataFrames\n",
    "using Statistics\n",
    "using MLJ\n",
    "using MLJDecisionTreeInterface"
   ]
  },
  {
   "cell_type": "code",
   "execution_count": 59,
   "metadata": {},
   "outputs": [
    {
     "data": {
      "text/plain": [
       "\"titanic_dataset.csv\""
      ]
     },
     "metadata": {},
     "output_type": "display_data"
    }
   ],
   "source": [
    "file_path = \"titanic_dataset.csv\""
   ]
  },
  {
   "cell_type": "code",
   "execution_count": 60,
   "metadata": {},
   "outputs": [
    {
     "data": {
      "text/html": [
       "<div><div style = \"float: left;\"><span>891×12 DataFrame</span></div><div style = \"float: right;\"><span style = \"font-style: italic;\">866 rows omitted</span></div><div style = \"clear: both;\"></div></div><div class = \"data-frame\" style = \"overflow-x: scroll;\"><table class = \"data-frame\" style = \"margin-bottom: 6px;\"><thead><tr class = \"header\"><th class = \"rowNumber\" style = \"font-weight: bold; text-align: right;\">Row</th><th style = \"text-align: left;\">PassengerId</th><th style = \"text-align: left;\">Survived</th><th style = \"text-align: left;\">Pclass</th><th style = \"text-align: left;\">Name</th><th style = \"text-align: left;\">Sex</th><th style = \"text-align: left;\">Age</th><th style = \"text-align: left;\">SibSp</th><th style = \"text-align: left;\">Parch</th><th style = \"text-align: left;\">Ticket</th><th style = \"text-align: left;\">Fare</th><th style = \"text-align: left;\">Cabin</th><th style = \"text-align: left;\">Embarked</th></tr><tr class = \"subheader headerLastRow\"><th class = \"rowNumber\" style = \"font-weight: bold; text-align: right;\"></th><th title = \"Int64\" style = \"text-align: left;\">Int64</th><th title = \"Int64\" style = \"text-align: left;\">Int64</th><th title = \"Int64\" style = \"text-align: left;\">Int64</th><th title = \"String\" style = \"text-align: left;\">String</th><th title = \"String7\" style = \"text-align: left;\">String7</th><th title = \"Union{Missing, Float64}\" style = \"text-align: left;\">Float64?</th><th title = \"Int64\" style = \"text-align: left;\">Int64</th><th title = \"Int64\" style = \"text-align: left;\">Int64</th><th title = \"String31\" style = \"text-align: left;\">String31</th><th title = \"Float64\" style = \"text-align: left;\">Float64</th><th title = \"Union{Missing, String15}\" style = \"text-align: left;\">String15?</th><th title = \"Union{Missing, String1}\" style = \"text-align: left;\">String1?</th></tr></thead><tbody><tr><td class = \"rowNumber\" style = \"font-weight: bold; text-align: right;\">1</td><td style = \"text-align: right;\">1</td><td style = \"text-align: right;\">0</td><td style = \"text-align: right;\">3</td><td style = \"text-align: left;\">Braund, Mr. Owen Harris</td><td style = \"text-align: left;\">male</td><td style = \"text-align: right;\">22.0</td><td style = \"text-align: right;\">1</td><td style = \"text-align: right;\">0</td><td style = \"text-align: left;\">A/5 21171</td><td style = \"text-align: right;\">7.25</td><td style = \"font-style: italic; text-align: left;\">missing</td><td style = \"text-align: left;\">S</td></tr><tr><td class = \"rowNumber\" style = \"font-weight: bold; text-align: right;\">2</td><td style = \"text-align: right;\">2</td><td style = \"text-align: right;\">1</td><td style = \"text-align: right;\">1</td><td style = \"text-align: left;\">Cumings, Mrs. John Bradley (Florence Briggs Thayer)</td><td style = \"text-align: left;\">female</td><td style = \"text-align: right;\">38.0</td><td style = \"text-align: right;\">1</td><td style = \"text-align: right;\">0</td><td style = \"text-align: left;\">PC 17599</td><td style = \"text-align: right;\">71.2833</td><td style = \"text-align: left;\">C85</td><td style = \"text-align: left;\">C</td></tr><tr><td class = \"rowNumber\" style = \"font-weight: bold; text-align: right;\">3</td><td style = \"text-align: right;\">3</td><td style = \"text-align: right;\">1</td><td style = \"text-align: right;\">3</td><td style = \"text-align: left;\">Heikkinen, Miss. Laina</td><td style = \"text-align: left;\">female</td><td style = \"text-align: right;\">26.0</td><td style = \"text-align: right;\">0</td><td style = \"text-align: right;\">0</td><td style = \"text-align: left;\">STON/O2. 3101282</td><td style = \"text-align: right;\">7.925</td><td style = \"font-style: italic; text-align: left;\">missing</td><td style = \"text-align: left;\">S</td></tr><tr><td class = \"rowNumber\" style = \"font-weight: bold; text-align: right;\">4</td><td style = \"text-align: right;\">4</td><td style = \"text-align: right;\">1</td><td style = \"text-align: right;\">1</td><td style = \"text-align: left;\">Futrelle, Mrs. Jacques Heath (Lily May Peel)</td><td style = \"text-align: left;\">female</td><td style = \"text-align: right;\">35.0</td><td style = \"text-align: right;\">1</td><td style = \"text-align: right;\">0</td><td style = \"text-align: left;\">113803</td><td style = \"text-align: right;\">53.1</td><td style = \"text-align: left;\">C123</td><td style = \"text-align: left;\">S</td></tr><tr><td class = \"rowNumber\" style = \"font-weight: bold; text-align: right;\">5</td><td style = \"text-align: right;\">5</td><td style = \"text-align: right;\">0</td><td style = \"text-align: right;\">3</td><td style = \"text-align: left;\">Allen, Mr. William Henry</td><td style = \"text-align: left;\">male</td><td style = \"text-align: right;\">35.0</td><td style = \"text-align: right;\">0</td><td style = \"text-align: right;\">0</td><td style = \"text-align: left;\">373450</td><td style = \"text-align: right;\">8.05</td><td style = \"font-style: italic; text-align: left;\">missing</td><td style = \"text-align: left;\">S</td></tr><tr><td class = \"rowNumber\" style = \"font-weight: bold; text-align: right;\">6</td><td style = \"text-align: right;\">6</td><td style = \"text-align: right;\">0</td><td style = \"text-align: right;\">3</td><td style = \"text-align: left;\">Moran, Mr. James</td><td style = \"text-align: left;\">male</td><td style = \"font-style: italic; text-align: right;\">missing</td><td style = \"text-align: right;\">0</td><td style = \"text-align: right;\">0</td><td style = \"text-align: left;\">330877</td><td style = \"text-align: right;\">8.4583</td><td style = \"font-style: italic; text-align: left;\">missing</td><td style = \"text-align: left;\">Q</td></tr><tr><td class = \"rowNumber\" style = \"font-weight: bold; text-align: right;\">7</td><td style = \"text-align: right;\">7</td><td style = \"text-align: right;\">0</td><td style = \"text-align: right;\">1</td><td style = \"text-align: left;\">McCarthy, Mr. Timothy J</td><td style = \"text-align: left;\">male</td><td style = \"text-align: right;\">54.0</td><td style = \"text-align: right;\">0</td><td style = \"text-align: right;\">0</td><td style = \"text-align: left;\">17463</td><td style = \"text-align: right;\">51.8625</td><td style = \"text-align: left;\">E46</td><td style = \"text-align: left;\">S</td></tr><tr><td class = \"rowNumber\" style = \"font-weight: bold; text-align: right;\">8</td><td style = \"text-align: right;\">8</td><td style = \"text-align: right;\">0</td><td style = \"text-align: right;\">3</td><td style = \"text-align: left;\">Palsson, Master. Gosta Leonard</td><td style = \"text-align: left;\">male</td><td style = \"text-align: right;\">2.0</td><td style = \"text-align: right;\">3</td><td style = \"text-align: right;\">1</td><td style = \"text-align: left;\">349909</td><td style = \"text-align: right;\">21.075</td><td style = \"font-style: italic; text-align: left;\">missing</td><td style = \"text-align: left;\">S</td></tr><tr><td class = \"rowNumber\" style = \"font-weight: bold; text-align: right;\">9</td><td style = \"text-align: right;\">9</td><td style = \"text-align: right;\">1</td><td style = \"text-align: right;\">3</td><td style = \"text-align: left;\">Johnson, Mrs. Oscar W (Elisabeth Vilhelmina Berg)</td><td style = \"text-align: left;\">female</td><td style = \"text-align: right;\">27.0</td><td style = \"text-align: right;\">0</td><td style = \"text-align: right;\">2</td><td style = \"text-align: left;\">347742</td><td style = \"text-align: right;\">11.1333</td><td style = \"font-style: italic; text-align: left;\">missing</td><td style = \"text-align: left;\">S</td></tr><tr><td class = \"rowNumber\" style = \"font-weight: bold; text-align: right;\">10</td><td style = \"text-align: right;\">10</td><td style = \"text-align: right;\">1</td><td style = \"text-align: right;\">2</td><td style = \"text-align: left;\">Nasser, Mrs. Nicholas (Adele Achem)</td><td style = \"text-align: left;\">female</td><td style = \"text-align: right;\">14.0</td><td style = \"text-align: right;\">1</td><td style = \"text-align: right;\">0</td><td style = \"text-align: left;\">237736</td><td style = \"text-align: right;\">30.0708</td><td style = \"font-style: italic; text-align: left;\">missing</td><td style = \"text-align: left;\">C</td></tr><tr><td class = \"rowNumber\" style = \"font-weight: bold; text-align: right;\">11</td><td style = \"text-align: right;\">11</td><td style = \"text-align: right;\">1</td><td style = \"text-align: right;\">3</td><td style = \"text-align: left;\">Sandstrom, Miss. Marguerite Rut</td><td style = \"text-align: left;\">female</td><td style = \"text-align: right;\">4.0</td><td style = \"text-align: right;\">1</td><td style = \"text-align: right;\">1</td><td style = \"text-align: left;\">PP 9549</td><td style = \"text-align: right;\">16.7</td><td style = \"text-align: left;\">G6</td><td style = \"text-align: left;\">S</td></tr><tr><td class = \"rowNumber\" style = \"font-weight: bold; text-align: right;\">12</td><td style = \"text-align: right;\">12</td><td style = \"text-align: right;\">1</td><td style = \"text-align: right;\">1</td><td style = \"text-align: left;\">Bonnell, Miss. Elizabeth</td><td style = \"text-align: left;\">female</td><td style = \"text-align: right;\">58.0</td><td style = \"text-align: right;\">0</td><td style = \"text-align: right;\">0</td><td style = \"text-align: left;\">113783</td><td style = \"text-align: right;\">26.55</td><td style = \"text-align: left;\">C103</td><td style = \"text-align: left;\">S</td></tr><tr><td class = \"rowNumber\" style = \"font-weight: bold; text-align: right;\">13</td><td style = \"text-align: right;\">13</td><td style = \"text-align: right;\">0</td><td style = \"text-align: right;\">3</td><td style = \"text-align: left;\">Saundercock, Mr. William Henry</td><td style = \"text-align: left;\">male</td><td style = \"text-align: right;\">20.0</td><td style = \"text-align: right;\">0</td><td style = \"text-align: right;\">0</td><td style = \"text-align: left;\">A/5. 2151</td><td style = \"text-align: right;\">8.05</td><td style = \"font-style: italic; text-align: left;\">missing</td><td style = \"text-align: left;\">S</td></tr><tr><td style = \"text-align: right;\">&vellip;</td><td style = \"text-align: right;\">&vellip;</td><td style = \"text-align: right;\">&vellip;</td><td style = \"text-align: right;\">&vellip;</td><td style = \"text-align: right;\">&vellip;</td><td style = \"text-align: right;\">&vellip;</td><td style = \"text-align: right;\">&vellip;</td><td style = \"text-align: right;\">&vellip;</td><td style = \"text-align: right;\">&vellip;</td><td style = \"text-align: right;\">&vellip;</td><td style = \"text-align: right;\">&vellip;</td><td style = \"text-align: right;\">&vellip;</td><td style = \"text-align: right;\">&vellip;</td></tr><tr><td class = \"rowNumber\" style = \"font-weight: bold; text-align: right;\">880</td><td style = \"text-align: right;\">880</td><td style = \"text-align: right;\">1</td><td style = \"text-align: right;\">1</td><td style = \"text-align: left;\">Potter, Mrs. Thomas Jr (Lily Alexenia Wilson)</td><td style = \"text-align: left;\">female</td><td style = \"text-align: right;\">56.0</td><td style = \"text-align: right;\">0</td><td style = \"text-align: right;\">1</td><td style = \"text-align: left;\">11767</td><td style = \"text-align: right;\">83.1583</td><td style = \"text-align: left;\">C50</td><td style = \"text-align: left;\">C</td></tr><tr><td class = \"rowNumber\" style = \"font-weight: bold; text-align: right;\">881</td><td style = \"text-align: right;\">881</td><td style = \"text-align: right;\">1</td><td style = \"text-align: right;\">2</td><td style = \"text-align: left;\">Shelley, Mrs. William (Imanita Parrish Hall)</td><td style = \"text-align: left;\">female</td><td style = \"text-align: right;\">25.0</td><td style = \"text-align: right;\">0</td><td style = \"text-align: right;\">1</td><td style = \"text-align: left;\">230433</td><td style = \"text-align: right;\">26.0</td><td style = \"font-style: italic; text-align: left;\">missing</td><td style = \"text-align: left;\">S</td></tr><tr><td class = \"rowNumber\" style = \"font-weight: bold; text-align: right;\">882</td><td style = \"text-align: right;\">882</td><td style = \"text-align: right;\">0</td><td style = \"text-align: right;\">3</td><td style = \"text-align: left;\">Markun, Mr. Johann</td><td style = \"text-align: left;\">male</td><td style = \"text-align: right;\">33.0</td><td style = \"text-align: right;\">0</td><td style = \"text-align: right;\">0</td><td style = \"text-align: left;\">349257</td><td style = \"text-align: right;\">7.8958</td><td style = \"font-style: italic; text-align: left;\">missing</td><td style = \"text-align: left;\">S</td></tr><tr><td class = \"rowNumber\" style = \"font-weight: bold; text-align: right;\">883</td><td style = \"text-align: right;\">883</td><td style = \"text-align: right;\">0</td><td style = \"text-align: right;\">3</td><td style = \"text-align: left;\">Dahlberg, Miss. Gerda Ulrika</td><td style = \"text-align: left;\">female</td><td style = \"text-align: right;\">22.0</td><td style = \"text-align: right;\">0</td><td style = \"text-align: right;\">0</td><td style = \"text-align: left;\">7552</td><td style = \"text-align: right;\">10.5167</td><td style = \"font-style: italic; text-align: left;\">missing</td><td style = \"text-align: left;\">S</td></tr><tr><td class = \"rowNumber\" style = \"font-weight: bold; text-align: right;\">884</td><td style = \"text-align: right;\">884</td><td style = \"text-align: right;\">0</td><td style = \"text-align: right;\">2</td><td style = \"text-align: left;\">Banfield, Mr. Frederick James</td><td style = \"text-align: left;\">male</td><td style = \"text-align: right;\">28.0</td><td style = \"text-align: right;\">0</td><td style = \"text-align: right;\">0</td><td style = \"text-align: left;\">C.A./SOTON 34068</td><td style = \"text-align: right;\">10.5</td><td style = \"font-style: italic; text-align: left;\">missing</td><td style = \"text-align: left;\">S</td></tr><tr><td class = \"rowNumber\" style = \"font-weight: bold; text-align: right;\">885</td><td style = \"text-align: right;\">885</td><td style = \"text-align: right;\">0</td><td style = \"text-align: right;\">3</td><td style = \"text-align: left;\">Sutehall, Mr. Henry Jr</td><td style = \"text-align: left;\">male</td><td style = \"text-align: right;\">25.0</td><td style = \"text-align: right;\">0</td><td style = \"text-align: right;\">0</td><td style = \"text-align: left;\">SOTON/OQ 392076</td><td style = \"text-align: right;\">7.05</td><td style = \"font-style: italic; text-align: left;\">missing</td><td style = \"text-align: left;\">S</td></tr><tr><td class = \"rowNumber\" style = \"font-weight: bold; text-align: right;\">886</td><td style = \"text-align: right;\">886</td><td style = \"text-align: right;\">0</td><td style = \"text-align: right;\">3</td><td style = \"text-align: left;\">Rice, Mrs. William (Margaret Norton)</td><td style = \"text-align: left;\">female</td><td style = \"text-align: right;\">39.0</td><td style = \"text-align: right;\">0</td><td style = \"text-align: right;\">5</td><td style = \"text-align: left;\">382652</td><td style = \"text-align: right;\">29.125</td><td style = \"font-style: italic; text-align: left;\">missing</td><td style = \"text-align: left;\">Q</td></tr><tr><td class = \"rowNumber\" style = \"font-weight: bold; text-align: right;\">887</td><td style = \"text-align: right;\">887</td><td style = \"text-align: right;\">0</td><td style = \"text-align: right;\">2</td><td style = \"text-align: left;\">Montvila, Rev. Juozas</td><td style = \"text-align: left;\">male</td><td style = \"text-align: right;\">27.0</td><td style = \"text-align: right;\">0</td><td style = \"text-align: right;\">0</td><td style = \"text-align: left;\">211536</td><td style = \"text-align: right;\">13.0</td><td style = \"font-style: italic; text-align: left;\">missing</td><td style = \"text-align: left;\">S</td></tr><tr><td class = \"rowNumber\" style = \"font-weight: bold; text-align: right;\">888</td><td style = \"text-align: right;\">888</td><td style = \"text-align: right;\">1</td><td style = \"text-align: right;\">1</td><td style = \"text-align: left;\">Graham, Miss. Margaret Edith</td><td style = \"text-align: left;\">female</td><td style = \"text-align: right;\">19.0</td><td style = \"text-align: right;\">0</td><td style = \"text-align: right;\">0</td><td style = \"text-align: left;\">112053</td><td style = \"text-align: right;\">30.0</td><td style = \"text-align: left;\">B42</td><td style = \"text-align: left;\">S</td></tr><tr><td class = \"rowNumber\" style = \"font-weight: bold; text-align: right;\">889</td><td style = \"text-align: right;\">889</td><td style = \"text-align: right;\">0</td><td style = \"text-align: right;\">3</td><td style = \"text-align: left;\">Johnston, Miss. Catherine Helen &quot;Carrie&quot;</td><td style = \"text-align: left;\">female</td><td style = \"font-style: italic; text-align: right;\">missing</td><td style = \"text-align: right;\">1</td><td style = \"text-align: right;\">2</td><td style = \"text-align: left;\">W./C. 6607</td><td style = \"text-align: right;\">23.45</td><td style = \"font-style: italic; text-align: left;\">missing</td><td style = \"text-align: left;\">S</td></tr><tr><td class = \"rowNumber\" style = \"font-weight: bold; text-align: right;\">890</td><td style = \"text-align: right;\">890</td><td style = \"text-align: right;\">1</td><td style = \"text-align: right;\">1</td><td style = \"text-align: left;\">Behr, Mr. Karl Howell</td><td style = \"text-align: left;\">male</td><td style = \"text-align: right;\">26.0</td><td style = \"text-align: right;\">0</td><td style = \"text-align: right;\">0</td><td style = \"text-align: left;\">111369</td><td style = \"text-align: right;\">30.0</td><td style = \"text-align: left;\">C148</td><td style = \"text-align: left;\">C</td></tr><tr><td class = \"rowNumber\" style = \"font-weight: bold; text-align: right;\">891</td><td style = \"text-align: right;\">891</td><td style = \"text-align: right;\">0</td><td style = \"text-align: right;\">3</td><td style = \"text-align: left;\">Dooley, Mr. Patrick</td><td style = \"text-align: left;\">male</td><td style = \"text-align: right;\">32.0</td><td style = \"text-align: right;\">0</td><td style = \"text-align: right;\">0</td><td style = \"text-align: left;\">370376</td><td style = \"text-align: right;\">7.75</td><td style = \"font-style: italic; text-align: left;\">missing</td><td style = \"text-align: left;\">Q</td></tr></tbody></table></div>"
      ],
      "text/latex": [
       "\\begin{tabular}{r|ccccc}\n",
       "\t& PassengerId & Survived & Pclass & Name & \\\\\n",
       "\t\\hline\n",
       "\t& Int64 & Int64 & Int64 & String & \\\\\n",
       "\t\\hline\n",
       "\t1 & 1 & 0 & 3 & Braund, Mr. Owen Harris & $\\dots$ \\\\\n",
       "\t2 & 2 & 1 & 1 & Cumings, Mrs. John Bradley (Florence Briggs Thayer) & $\\dots$ \\\\\n",
       "\t3 & 3 & 1 & 3 & Heikkinen, Miss. Laina & $\\dots$ \\\\\n",
       "\t4 & 4 & 1 & 1 & Futrelle, Mrs. Jacques Heath (Lily May Peel) & $\\dots$ \\\\\n",
       "\t5 & 5 & 0 & 3 & Allen, Mr. William Henry & $\\dots$ \\\\\n",
       "\t6 & 6 & 0 & 3 & Moran, Mr. James & $\\dots$ \\\\\n",
       "\t7 & 7 & 0 & 1 & McCarthy, Mr. Timothy J & $\\dots$ \\\\\n",
       "\t8 & 8 & 0 & 3 & Palsson, Master. Gosta Leonard & $\\dots$ \\\\\n",
       "\t9 & 9 & 1 & 3 & Johnson, Mrs. Oscar W (Elisabeth Vilhelmina Berg) & $\\dots$ \\\\\n",
       "\t10 & 10 & 1 & 2 & Nasser, Mrs. Nicholas (Adele Achem) & $\\dots$ \\\\\n",
       "\t11 & 11 & 1 & 3 & Sandstrom, Miss. Marguerite Rut & $\\dots$ \\\\\n",
       "\t12 & 12 & 1 & 1 & Bonnell, Miss. Elizabeth & $\\dots$ \\\\\n",
       "\t13 & 13 & 0 & 3 & Saundercock, Mr. William Henry & $\\dots$ \\\\\n",
       "\t14 & 14 & 0 & 3 & Andersson, Mr. Anders Johan & $\\dots$ \\\\\n",
       "\t15 & 15 & 0 & 3 & Vestrom, Miss. Hulda Amanda Adolfina & $\\dots$ \\\\\n",
       "\t16 & 16 & 1 & 2 & Hewlett, Mrs. (Mary D Kingcome)  & $\\dots$ \\\\\n",
       "\t17 & 17 & 0 & 3 & Rice, Master. Eugene & $\\dots$ \\\\\n",
       "\t18 & 18 & 1 & 2 & Williams, Mr. Charles Eugene & $\\dots$ \\\\\n",
       "\t19 & 19 & 0 & 3 & Vander Planke, Mrs. Julius (Emelia Maria Vandemoortele) & $\\dots$ \\\\\n",
       "\t20 & 20 & 1 & 3 & Masselmani, Mrs. Fatima & $\\dots$ \\\\\n",
       "\t21 & 21 & 0 & 2 & Fynney, Mr. Joseph J & $\\dots$ \\\\\n",
       "\t22 & 22 & 1 & 2 & Beesley, Mr. Lawrence & $\\dots$ \\\\\n",
       "\t23 & 23 & 1 & 3 & McGowan, Miss. Anna \"Annie\" & $\\dots$ \\\\\n",
       "\t24 & 24 & 1 & 1 & Sloper, Mr. William Thompson & $\\dots$ \\\\\n",
       "\t$\\dots$ & $\\dots$ & $\\dots$ & $\\dots$ & $\\dots$ &  \\\\\n",
       "\\end{tabular}\n"
      ],
      "text/plain": [
       "\u001b[1m891×12 DataFrame\u001b[0m\n",
       "\u001b[1m Row \u001b[0m│\u001b[1m PassengerId \u001b[0m\u001b[1m Survived \u001b[0m\u001b[1m Pclass \u001b[0m\u001b[1m Name                              \u001b[0m\u001b[1m Sex  \u001b[0m ⋯\n",
       "     │\u001b[90m Int64       \u001b[0m\u001b[90m Int64    \u001b[0m\u001b[90m Int64  \u001b[0m\u001b[90m String                            \u001b[0m\u001b[90m Strin\u001b[0m ⋯\n",
       "─────┼──────────────────────────────────────────────────────────────────────────\n",
       "   1 │           1         0       3  Braund, Mr. Owen Harris            male  ⋯\n",
       "   2 │           2         1       1  Cumings, Mrs. John Bradley (Flor…  femal\n",
       "   3 │           3         1       3  Heikkinen, Miss. Laina             femal\n",
       "   4 │           4         1       1  Futrelle, Mrs. Jacques Heath (Li…  femal\n",
       "   5 │           5         0       3  Allen, Mr. William Henry           male  ⋯\n",
       "   6 │           6         0       3  Moran, Mr. James                   male\n",
       "   7 │           7         0       1  McCarthy, Mr. Timothy J            male\n",
       "   8 │           8         0       3  Palsson, Master. Gosta Leonard     male\n",
       "  ⋮  │      ⋮          ⋮        ⋮                     ⋮                     ⋮  ⋱\n",
       " 885 │         885         0       3  Sutehall, Mr. Henry Jr             male  ⋯\n",
       " 886 │         886         0       3  Rice, Mrs. William (Margaret Nor…  femal\n",
       " 887 │         887         0       2  Montvila, Rev. Juozas              male\n",
       " 888 │         888         1       1  Graham, Miss. Margaret Edith       femal\n",
       " 889 │         889         0       3  Johnston, Miss. Catherine Helen …  femal ⋯\n",
       " 890 │         890         1       1  Behr, Mr. Karl Howell              male\n",
       " 891 │         891         0       3  Dooley, Mr. Patrick                male\n",
       "\u001b[36m                                                  8 columns and 876 rows omitted\u001b[0m"
      ]
     },
     "metadata": {},
     "output_type": "display_data"
    }
   ],
   "source": [
    "df = CSV.read(file_path, DataFrame)"
   ]
  },
  {
   "cell_type": "code",
   "execution_count": 61,
   "metadata": {},
   "outputs": [
    {
     "data": {
      "text/html": [
       "<div><div style = \"float: left;\"><span>891×8 DataFrame</span></div><div style = \"float: right;\"><span style = \"font-style: italic;\">866 rows omitted</span></div><div style = \"clear: both;\"></div></div><div class = \"data-frame\" style = \"overflow-x: scroll;\"><table class = \"data-frame\" style = \"margin-bottom: 6px;\"><thead><tr class = \"header\"><th class = \"rowNumber\" style = \"font-weight: bold; text-align: right;\">Row</th><th style = \"text-align: left;\">PassengerId</th><th style = \"text-align: left;\">Survived</th><th style = \"text-align: left;\">Pclass</th><th style = \"text-align: left;\">Sex</th><th style = \"text-align: left;\">Age</th><th style = \"text-align: left;\">SibSp</th><th style = \"text-align: left;\">Parch</th><th style = \"text-align: left;\">Fare</th></tr><tr class = \"subheader headerLastRow\"><th class = \"rowNumber\" style = \"font-weight: bold; text-align: right;\"></th><th title = \"Int64\" style = \"text-align: left;\">Int64</th><th title = \"Int64\" style = \"text-align: left;\">Int64</th><th title = \"Int64\" style = \"text-align: left;\">Int64</th><th title = \"String7\" style = \"text-align: left;\">String7</th><th title = \"Union{Missing, Float64}\" style = \"text-align: left;\">Float64?</th><th title = \"Int64\" style = \"text-align: left;\">Int64</th><th title = \"Int64\" style = \"text-align: left;\">Int64</th><th title = \"Float64\" style = \"text-align: left;\">Float64</th></tr></thead><tbody><tr><td class = \"rowNumber\" style = \"font-weight: bold; text-align: right;\">1</td><td style = \"text-align: right;\">1</td><td style = \"text-align: right;\">0</td><td style = \"text-align: right;\">3</td><td style = \"text-align: left;\">male</td><td style = \"text-align: right;\">22.0</td><td style = \"text-align: right;\">1</td><td style = \"text-align: right;\">0</td><td style = \"text-align: right;\">7.25</td></tr><tr><td class = \"rowNumber\" style = \"font-weight: bold; text-align: right;\">2</td><td style = \"text-align: right;\">2</td><td style = \"text-align: right;\">1</td><td style = \"text-align: right;\">1</td><td style = \"text-align: left;\">female</td><td style = \"text-align: right;\">38.0</td><td style = \"text-align: right;\">1</td><td style = \"text-align: right;\">0</td><td style = \"text-align: right;\">71.2833</td></tr><tr><td class = \"rowNumber\" style = \"font-weight: bold; text-align: right;\">3</td><td style = \"text-align: right;\">3</td><td style = \"text-align: right;\">1</td><td style = \"text-align: right;\">3</td><td style = \"text-align: left;\">female</td><td style = \"text-align: right;\">26.0</td><td style = \"text-align: right;\">0</td><td style = \"text-align: right;\">0</td><td style = \"text-align: right;\">7.925</td></tr><tr><td class = \"rowNumber\" style = \"font-weight: bold; text-align: right;\">4</td><td style = \"text-align: right;\">4</td><td style = \"text-align: right;\">1</td><td style = \"text-align: right;\">1</td><td style = \"text-align: left;\">female</td><td style = \"text-align: right;\">35.0</td><td style = \"text-align: right;\">1</td><td style = \"text-align: right;\">0</td><td style = \"text-align: right;\">53.1</td></tr><tr><td class = \"rowNumber\" style = \"font-weight: bold; text-align: right;\">5</td><td style = \"text-align: right;\">5</td><td style = \"text-align: right;\">0</td><td style = \"text-align: right;\">3</td><td style = \"text-align: left;\">male</td><td style = \"text-align: right;\">35.0</td><td style = \"text-align: right;\">0</td><td style = \"text-align: right;\">0</td><td style = \"text-align: right;\">8.05</td></tr><tr><td class = \"rowNumber\" style = \"font-weight: bold; text-align: right;\">6</td><td style = \"text-align: right;\">6</td><td style = \"text-align: right;\">0</td><td style = \"text-align: right;\">3</td><td style = \"text-align: left;\">male</td><td style = \"font-style: italic; text-align: right;\">missing</td><td style = \"text-align: right;\">0</td><td style = \"text-align: right;\">0</td><td style = \"text-align: right;\">8.4583</td></tr><tr><td class = \"rowNumber\" style = \"font-weight: bold; text-align: right;\">7</td><td style = \"text-align: right;\">7</td><td style = \"text-align: right;\">0</td><td style = \"text-align: right;\">1</td><td style = \"text-align: left;\">male</td><td style = \"text-align: right;\">54.0</td><td style = \"text-align: right;\">0</td><td style = \"text-align: right;\">0</td><td style = \"text-align: right;\">51.8625</td></tr><tr><td class = \"rowNumber\" style = \"font-weight: bold; text-align: right;\">8</td><td style = \"text-align: right;\">8</td><td style = \"text-align: right;\">0</td><td style = \"text-align: right;\">3</td><td style = \"text-align: left;\">male</td><td style = \"text-align: right;\">2.0</td><td style = \"text-align: right;\">3</td><td style = \"text-align: right;\">1</td><td style = \"text-align: right;\">21.075</td></tr><tr><td class = \"rowNumber\" style = \"font-weight: bold; text-align: right;\">9</td><td style = \"text-align: right;\">9</td><td style = \"text-align: right;\">1</td><td style = \"text-align: right;\">3</td><td style = \"text-align: left;\">female</td><td style = \"text-align: right;\">27.0</td><td style = \"text-align: right;\">0</td><td style = \"text-align: right;\">2</td><td style = \"text-align: right;\">11.1333</td></tr><tr><td class = \"rowNumber\" style = \"font-weight: bold; text-align: right;\">10</td><td style = \"text-align: right;\">10</td><td style = \"text-align: right;\">1</td><td style = \"text-align: right;\">2</td><td style = \"text-align: left;\">female</td><td style = \"text-align: right;\">14.0</td><td style = \"text-align: right;\">1</td><td style = \"text-align: right;\">0</td><td style = \"text-align: right;\">30.0708</td></tr><tr><td class = \"rowNumber\" style = \"font-weight: bold; text-align: right;\">11</td><td style = \"text-align: right;\">11</td><td style = \"text-align: right;\">1</td><td style = \"text-align: right;\">3</td><td style = \"text-align: left;\">female</td><td style = \"text-align: right;\">4.0</td><td style = \"text-align: right;\">1</td><td style = \"text-align: right;\">1</td><td style = \"text-align: right;\">16.7</td></tr><tr><td class = \"rowNumber\" style = \"font-weight: bold; text-align: right;\">12</td><td style = \"text-align: right;\">12</td><td style = \"text-align: right;\">1</td><td style = \"text-align: right;\">1</td><td style = \"text-align: left;\">female</td><td style = \"text-align: right;\">58.0</td><td style = \"text-align: right;\">0</td><td style = \"text-align: right;\">0</td><td style = \"text-align: right;\">26.55</td></tr><tr><td class = \"rowNumber\" style = \"font-weight: bold; text-align: right;\">13</td><td style = \"text-align: right;\">13</td><td style = \"text-align: right;\">0</td><td style = \"text-align: right;\">3</td><td style = \"text-align: left;\">male</td><td style = \"text-align: right;\">20.0</td><td style = \"text-align: right;\">0</td><td style = \"text-align: right;\">0</td><td style = \"text-align: right;\">8.05</td></tr><tr><td style = \"text-align: right;\">&vellip;</td><td style = \"text-align: right;\">&vellip;</td><td style = \"text-align: right;\">&vellip;</td><td style = \"text-align: right;\">&vellip;</td><td style = \"text-align: right;\">&vellip;</td><td style = \"text-align: right;\">&vellip;</td><td style = \"text-align: right;\">&vellip;</td><td style = \"text-align: right;\">&vellip;</td><td style = \"text-align: right;\">&vellip;</td></tr><tr><td class = \"rowNumber\" style = \"font-weight: bold; text-align: right;\">880</td><td style = \"text-align: right;\">880</td><td style = \"text-align: right;\">1</td><td style = \"text-align: right;\">1</td><td style = \"text-align: left;\">female</td><td style = \"text-align: right;\">56.0</td><td style = \"text-align: right;\">0</td><td style = \"text-align: right;\">1</td><td style = \"text-align: right;\">83.1583</td></tr><tr><td class = \"rowNumber\" style = \"font-weight: bold; text-align: right;\">881</td><td style = \"text-align: right;\">881</td><td style = \"text-align: right;\">1</td><td style = \"text-align: right;\">2</td><td style = \"text-align: left;\">female</td><td style = \"text-align: right;\">25.0</td><td style = \"text-align: right;\">0</td><td style = \"text-align: right;\">1</td><td style = \"text-align: right;\">26.0</td></tr><tr><td class = \"rowNumber\" style = \"font-weight: bold; text-align: right;\">882</td><td style = \"text-align: right;\">882</td><td style = \"text-align: right;\">0</td><td style = \"text-align: right;\">3</td><td style = \"text-align: left;\">male</td><td style = \"text-align: right;\">33.0</td><td style = \"text-align: right;\">0</td><td style = \"text-align: right;\">0</td><td style = \"text-align: right;\">7.8958</td></tr><tr><td class = \"rowNumber\" style = \"font-weight: bold; text-align: right;\">883</td><td style = \"text-align: right;\">883</td><td style = \"text-align: right;\">0</td><td style = \"text-align: right;\">3</td><td style = \"text-align: left;\">female</td><td style = \"text-align: right;\">22.0</td><td style = \"text-align: right;\">0</td><td style = \"text-align: right;\">0</td><td style = \"text-align: right;\">10.5167</td></tr><tr><td class = \"rowNumber\" style = \"font-weight: bold; text-align: right;\">884</td><td style = \"text-align: right;\">884</td><td style = \"text-align: right;\">0</td><td style = \"text-align: right;\">2</td><td style = \"text-align: left;\">male</td><td style = \"text-align: right;\">28.0</td><td style = \"text-align: right;\">0</td><td style = \"text-align: right;\">0</td><td style = \"text-align: right;\">10.5</td></tr><tr><td class = \"rowNumber\" style = \"font-weight: bold; text-align: right;\">885</td><td style = \"text-align: right;\">885</td><td style = \"text-align: right;\">0</td><td style = \"text-align: right;\">3</td><td style = \"text-align: left;\">male</td><td style = \"text-align: right;\">25.0</td><td style = \"text-align: right;\">0</td><td style = \"text-align: right;\">0</td><td style = \"text-align: right;\">7.05</td></tr><tr><td class = \"rowNumber\" style = \"font-weight: bold; text-align: right;\">886</td><td style = \"text-align: right;\">886</td><td style = \"text-align: right;\">0</td><td style = \"text-align: right;\">3</td><td style = \"text-align: left;\">female</td><td style = \"text-align: right;\">39.0</td><td style = \"text-align: right;\">0</td><td style = \"text-align: right;\">5</td><td style = \"text-align: right;\">29.125</td></tr><tr><td class = \"rowNumber\" style = \"font-weight: bold; text-align: right;\">887</td><td style = \"text-align: right;\">887</td><td style = \"text-align: right;\">0</td><td style = \"text-align: right;\">2</td><td style = \"text-align: left;\">male</td><td style = \"text-align: right;\">27.0</td><td style = \"text-align: right;\">0</td><td style = \"text-align: right;\">0</td><td style = \"text-align: right;\">13.0</td></tr><tr><td class = \"rowNumber\" style = \"font-weight: bold; text-align: right;\">888</td><td style = \"text-align: right;\">888</td><td style = \"text-align: right;\">1</td><td style = \"text-align: right;\">1</td><td style = \"text-align: left;\">female</td><td style = \"text-align: right;\">19.0</td><td style = \"text-align: right;\">0</td><td style = \"text-align: right;\">0</td><td style = \"text-align: right;\">30.0</td></tr><tr><td class = \"rowNumber\" style = \"font-weight: bold; text-align: right;\">889</td><td style = \"text-align: right;\">889</td><td style = \"text-align: right;\">0</td><td style = \"text-align: right;\">3</td><td style = \"text-align: left;\">female</td><td style = \"font-style: italic; text-align: right;\">missing</td><td style = \"text-align: right;\">1</td><td style = \"text-align: right;\">2</td><td style = \"text-align: right;\">23.45</td></tr><tr><td class = \"rowNumber\" style = \"font-weight: bold; text-align: right;\">890</td><td style = \"text-align: right;\">890</td><td style = \"text-align: right;\">1</td><td style = \"text-align: right;\">1</td><td style = \"text-align: left;\">male</td><td style = \"text-align: right;\">26.0</td><td style = \"text-align: right;\">0</td><td style = \"text-align: right;\">0</td><td style = \"text-align: right;\">30.0</td></tr><tr><td class = \"rowNumber\" style = \"font-weight: bold; text-align: right;\">891</td><td style = \"text-align: right;\">891</td><td style = \"text-align: right;\">0</td><td style = \"text-align: right;\">3</td><td style = \"text-align: left;\">male</td><td style = \"text-align: right;\">32.0</td><td style = \"text-align: right;\">0</td><td style = \"text-align: right;\">0</td><td style = \"text-align: right;\">7.75</td></tr></tbody></table></div>"
      ],
      "text/latex": [
       "\\begin{tabular}{r|cccccccc}\n",
       "\t& PassengerId & Survived & Pclass & Sex & Age & SibSp & Parch & Fare\\\\\n",
       "\t\\hline\n",
       "\t& Int64 & Int64 & Int64 & String7 & Float64? & Int64 & Int64 & Float64\\\\\n",
       "\t\\hline\n",
       "\t1 & 1 & 0 & 3 & male & 22.0 & 1 & 0 & 7.25 \\\\\n",
       "\t2 & 2 & 1 & 1 & female & 38.0 & 1 & 0 & 71.2833 \\\\\n",
       "\t3 & 3 & 1 & 3 & female & 26.0 & 0 & 0 & 7.925 \\\\\n",
       "\t4 & 4 & 1 & 1 & female & 35.0 & 1 & 0 & 53.1 \\\\\n",
       "\t5 & 5 & 0 & 3 & male & 35.0 & 0 & 0 & 8.05 \\\\\n",
       "\t6 & 6 & 0 & 3 & male & \\emph{missing} & 0 & 0 & 8.4583 \\\\\n",
       "\t7 & 7 & 0 & 1 & male & 54.0 & 0 & 0 & 51.8625 \\\\\n",
       "\t8 & 8 & 0 & 3 & male & 2.0 & 3 & 1 & 21.075 \\\\\n",
       "\t9 & 9 & 1 & 3 & female & 27.0 & 0 & 2 & 11.1333 \\\\\n",
       "\t10 & 10 & 1 & 2 & female & 14.0 & 1 & 0 & 30.0708 \\\\\n",
       "\t11 & 11 & 1 & 3 & female & 4.0 & 1 & 1 & 16.7 \\\\\n",
       "\t12 & 12 & 1 & 1 & female & 58.0 & 0 & 0 & 26.55 \\\\\n",
       "\t13 & 13 & 0 & 3 & male & 20.0 & 0 & 0 & 8.05 \\\\\n",
       "\t14 & 14 & 0 & 3 & male & 39.0 & 1 & 5 & 31.275 \\\\\n",
       "\t15 & 15 & 0 & 3 & female & 14.0 & 0 & 0 & 7.8542 \\\\\n",
       "\t16 & 16 & 1 & 2 & female & 55.0 & 0 & 0 & 16.0 \\\\\n",
       "\t17 & 17 & 0 & 3 & male & 2.0 & 4 & 1 & 29.125 \\\\\n",
       "\t18 & 18 & 1 & 2 & male & \\emph{missing} & 0 & 0 & 13.0 \\\\\n",
       "\t19 & 19 & 0 & 3 & female & 31.0 & 1 & 0 & 18.0 \\\\\n",
       "\t20 & 20 & 1 & 3 & female & \\emph{missing} & 0 & 0 & 7.225 \\\\\n",
       "\t21 & 21 & 0 & 2 & male & 35.0 & 0 & 0 & 26.0 \\\\\n",
       "\t22 & 22 & 1 & 2 & male & 34.0 & 0 & 0 & 13.0 \\\\\n",
       "\t23 & 23 & 1 & 3 & female & 15.0 & 0 & 0 & 8.0292 \\\\\n",
       "\t24 & 24 & 1 & 1 & male & 28.0 & 0 & 0 & 35.5 \\\\\n",
       "\t$\\dots$ & $\\dots$ & $\\dots$ & $\\dots$ & $\\dots$ & $\\dots$ & $\\dots$ & $\\dots$ & $\\dots$ \\\\\n",
       "\\end{tabular}\n"
      ],
      "text/plain": [
       "\u001b[1m891×8 DataFrame\u001b[0m\n",
       "\u001b[1m Row \u001b[0m│\u001b[1m PassengerId \u001b[0m\u001b[1m Survived \u001b[0m\u001b[1m Pclass \u001b[0m\u001b[1m Sex     \u001b[0m\u001b[1m Age       \u001b[0m\u001b[1m SibSp \u001b[0m\u001b[1m Parch \u001b[0m\u001b[1m Fare  \u001b[0m ⋯\n",
       "     │\u001b[90m Int64       \u001b[0m\u001b[90m Int64    \u001b[0m\u001b[90m Int64  \u001b[0m\u001b[90m String7 \u001b[0m\u001b[90m Float64?  \u001b[0m\u001b[90m Int64 \u001b[0m\u001b[90m Int64 \u001b[0m\u001b[90m Float6\u001b[0m ⋯\n",
       "─────┼──────────────────────────────────────────────────────────────────────────\n",
       "   1 │           1         0       3  male          22.0      1      0   7.25  ⋯\n",
       "   2 │           2         1       1  female        38.0      1      0  71.283\n",
       "   3 │           3         1       3  female        26.0      0      0   7.925\n",
       "   4 │           4         1       1  female        35.0      1      0  53.1\n",
       "   5 │           5         0       3  male          35.0      0      0   8.05  ⋯\n",
       "   6 │           6         0       3  male    \u001b[90m missing   \u001b[0m     0      0   8.458\n",
       "   7 │           7         0       1  male          54.0      0      0  51.862\n",
       "   8 │           8         0       3  male           2.0      3      1  21.075\n",
       "  ⋮  │      ⋮          ⋮        ⋮        ⋮         ⋮        ⋮      ⋮       ⋮   ⋱\n",
       " 885 │         885         0       3  male          25.0      0      0   7.05  ⋯\n",
       " 886 │         886         0       3  female        39.0      0      5  29.125\n",
       " 887 │         887         0       2  male          27.0      0      0  13.0\n",
       " 888 │         888         1       1  female        19.0      0      0  30.0\n",
       " 889 │         889         0       3  female  \u001b[90m missing   \u001b[0m     1      2  23.45  ⋯\n",
       " 890 │         890         1       1  male          26.0      0      0  30.0\n",
       " 891 │         891         0       3  male          32.0      0      0   7.75\n",
       "\u001b[36m                                                   1 column and 876 rows omitted\u001b[0m"
      ]
     },
     "metadata": {},
     "output_type": "display_data"
    }
   ],
   "source": [
    "# For simplicity, let's drop columns with a lot of missing values or non-numeric data\n",
    "# You can perform more sophisticated preprocessing as needed\n",
    "drop_columns = [:Name, :Ticket, :Cabin, :Embarked]\n",
    "df = select(df, Not(drop_columns))"
   ]
  },
  {
   "cell_type": "code",
   "execution_count": 62,
   "metadata": {},
   "outputs": [
    {
     "data": {
      "text/html": [
       "<div><div style = \"float: left;\"><span>714×8 DataFrame</span></div><div style = \"float: right;\"><span style = \"font-style: italic;\">689 rows omitted</span></div><div style = \"clear: both;\"></div></div><div class = \"data-frame\" style = \"overflow-x: scroll;\"><table class = \"data-frame\" style = \"margin-bottom: 6px;\"><thead><tr class = \"header\"><th class = \"rowNumber\" style = \"font-weight: bold; text-align: right;\">Row</th><th style = \"text-align: left;\">PassengerId</th><th style = \"text-align: left;\">Survived</th><th style = \"text-align: left;\">Pclass</th><th style = \"text-align: left;\">Sex</th><th style = \"text-align: left;\">Age</th><th style = \"text-align: left;\">SibSp</th><th style = \"text-align: left;\">Parch</th><th style = \"text-align: left;\">Fare</th></tr><tr class = \"subheader headerLastRow\"><th class = \"rowNumber\" style = \"font-weight: bold; text-align: right;\"></th><th title = \"Int64\" style = \"text-align: left;\">Int64</th><th title = \"Int64\" style = \"text-align: left;\">Int64</th><th title = \"Int64\" style = \"text-align: left;\">Int64</th><th title = \"String7\" style = \"text-align: left;\">String7</th><th title = \"Float64\" style = \"text-align: left;\">Float64</th><th title = \"Int64\" style = \"text-align: left;\">Int64</th><th title = \"Int64\" style = \"text-align: left;\">Int64</th><th title = \"Float64\" style = \"text-align: left;\">Float64</th></tr></thead><tbody><tr><td class = \"rowNumber\" style = \"font-weight: bold; text-align: right;\">1</td><td style = \"text-align: right;\">1</td><td style = \"text-align: right;\">0</td><td style = \"text-align: right;\">3</td><td style = \"text-align: left;\">male</td><td style = \"text-align: right;\">22.0</td><td style = \"text-align: right;\">1</td><td style = \"text-align: right;\">0</td><td style = \"text-align: right;\">7.25</td></tr><tr><td class = \"rowNumber\" style = \"font-weight: bold; text-align: right;\">2</td><td style = \"text-align: right;\">2</td><td style = \"text-align: right;\">1</td><td style = \"text-align: right;\">1</td><td style = \"text-align: left;\">female</td><td style = \"text-align: right;\">38.0</td><td style = \"text-align: right;\">1</td><td style = \"text-align: right;\">0</td><td style = \"text-align: right;\">71.2833</td></tr><tr><td class = \"rowNumber\" style = \"font-weight: bold; text-align: right;\">3</td><td style = \"text-align: right;\">3</td><td style = \"text-align: right;\">1</td><td style = \"text-align: right;\">3</td><td style = \"text-align: left;\">female</td><td style = \"text-align: right;\">26.0</td><td style = \"text-align: right;\">0</td><td style = \"text-align: right;\">0</td><td style = \"text-align: right;\">7.925</td></tr><tr><td class = \"rowNumber\" style = \"font-weight: bold; text-align: right;\">4</td><td style = \"text-align: right;\">4</td><td style = \"text-align: right;\">1</td><td style = \"text-align: right;\">1</td><td style = \"text-align: left;\">female</td><td style = \"text-align: right;\">35.0</td><td style = \"text-align: right;\">1</td><td style = \"text-align: right;\">0</td><td style = \"text-align: right;\">53.1</td></tr><tr><td class = \"rowNumber\" style = \"font-weight: bold; text-align: right;\">5</td><td style = \"text-align: right;\">5</td><td style = \"text-align: right;\">0</td><td style = \"text-align: right;\">3</td><td style = \"text-align: left;\">male</td><td style = \"text-align: right;\">35.0</td><td style = \"text-align: right;\">0</td><td style = \"text-align: right;\">0</td><td style = \"text-align: right;\">8.05</td></tr><tr><td class = \"rowNumber\" style = \"font-weight: bold; text-align: right;\">6</td><td style = \"text-align: right;\">7</td><td style = \"text-align: right;\">0</td><td style = \"text-align: right;\">1</td><td style = \"text-align: left;\">male</td><td style = \"text-align: right;\">54.0</td><td style = \"text-align: right;\">0</td><td style = \"text-align: right;\">0</td><td style = \"text-align: right;\">51.8625</td></tr><tr><td class = \"rowNumber\" style = \"font-weight: bold; text-align: right;\">7</td><td style = \"text-align: right;\">8</td><td style = \"text-align: right;\">0</td><td style = \"text-align: right;\">3</td><td style = \"text-align: left;\">male</td><td style = \"text-align: right;\">2.0</td><td style = \"text-align: right;\">3</td><td style = \"text-align: right;\">1</td><td style = \"text-align: right;\">21.075</td></tr><tr><td class = \"rowNumber\" style = \"font-weight: bold; text-align: right;\">8</td><td style = \"text-align: right;\">9</td><td style = \"text-align: right;\">1</td><td style = \"text-align: right;\">3</td><td style = \"text-align: left;\">female</td><td style = \"text-align: right;\">27.0</td><td style = \"text-align: right;\">0</td><td style = \"text-align: right;\">2</td><td style = \"text-align: right;\">11.1333</td></tr><tr><td class = \"rowNumber\" style = \"font-weight: bold; text-align: right;\">9</td><td style = \"text-align: right;\">10</td><td style = \"text-align: right;\">1</td><td style = \"text-align: right;\">2</td><td style = \"text-align: left;\">female</td><td style = \"text-align: right;\">14.0</td><td style = \"text-align: right;\">1</td><td style = \"text-align: right;\">0</td><td style = \"text-align: right;\">30.0708</td></tr><tr><td class = \"rowNumber\" style = \"font-weight: bold; text-align: right;\">10</td><td style = \"text-align: right;\">11</td><td style = \"text-align: right;\">1</td><td style = \"text-align: right;\">3</td><td style = \"text-align: left;\">female</td><td style = \"text-align: right;\">4.0</td><td style = \"text-align: right;\">1</td><td style = \"text-align: right;\">1</td><td style = \"text-align: right;\">16.7</td></tr><tr><td class = \"rowNumber\" style = \"font-weight: bold; text-align: right;\">11</td><td style = \"text-align: right;\">12</td><td style = \"text-align: right;\">1</td><td style = \"text-align: right;\">1</td><td style = \"text-align: left;\">female</td><td style = \"text-align: right;\">58.0</td><td style = \"text-align: right;\">0</td><td style = \"text-align: right;\">0</td><td style = \"text-align: right;\">26.55</td></tr><tr><td class = \"rowNumber\" style = \"font-weight: bold; text-align: right;\">12</td><td style = \"text-align: right;\">13</td><td style = \"text-align: right;\">0</td><td style = \"text-align: right;\">3</td><td style = \"text-align: left;\">male</td><td style = \"text-align: right;\">20.0</td><td style = \"text-align: right;\">0</td><td style = \"text-align: right;\">0</td><td style = \"text-align: right;\">8.05</td></tr><tr><td class = \"rowNumber\" style = \"font-weight: bold; text-align: right;\">13</td><td style = \"text-align: right;\">14</td><td style = \"text-align: right;\">0</td><td style = \"text-align: right;\">3</td><td style = \"text-align: left;\">male</td><td style = \"text-align: right;\">39.0</td><td style = \"text-align: right;\">1</td><td style = \"text-align: right;\">5</td><td style = \"text-align: right;\">31.275</td></tr><tr><td style = \"text-align: right;\">&vellip;</td><td style = \"text-align: right;\">&vellip;</td><td style = \"text-align: right;\">&vellip;</td><td style = \"text-align: right;\">&vellip;</td><td style = \"text-align: right;\">&vellip;</td><td style = \"text-align: right;\">&vellip;</td><td style = \"text-align: right;\">&vellip;</td><td style = \"text-align: right;\">&vellip;</td><td style = \"text-align: right;\">&vellip;</td></tr><tr><td class = \"rowNumber\" style = \"font-weight: bold; text-align: right;\">703</td><td style = \"text-align: right;\">878</td><td style = \"text-align: right;\">0</td><td style = \"text-align: right;\">3</td><td style = \"text-align: left;\">male</td><td style = \"text-align: right;\">19.0</td><td style = \"text-align: right;\">0</td><td style = \"text-align: right;\">0</td><td style = \"text-align: right;\">7.8958</td></tr><tr><td class = \"rowNumber\" style = \"font-weight: bold; text-align: right;\">704</td><td style = \"text-align: right;\">880</td><td style = \"text-align: right;\">1</td><td style = \"text-align: right;\">1</td><td style = \"text-align: left;\">female</td><td style = \"text-align: right;\">56.0</td><td style = \"text-align: right;\">0</td><td style = \"text-align: right;\">1</td><td style = \"text-align: right;\">83.1583</td></tr><tr><td class = \"rowNumber\" style = \"font-weight: bold; text-align: right;\">705</td><td style = \"text-align: right;\">881</td><td style = \"text-align: right;\">1</td><td style = \"text-align: right;\">2</td><td style = \"text-align: left;\">female</td><td style = \"text-align: right;\">25.0</td><td style = \"text-align: right;\">0</td><td style = \"text-align: right;\">1</td><td style = \"text-align: right;\">26.0</td></tr><tr><td class = \"rowNumber\" style = \"font-weight: bold; text-align: right;\">706</td><td style = \"text-align: right;\">882</td><td style = \"text-align: right;\">0</td><td style = \"text-align: right;\">3</td><td style = \"text-align: left;\">male</td><td style = \"text-align: right;\">33.0</td><td style = \"text-align: right;\">0</td><td style = \"text-align: right;\">0</td><td style = \"text-align: right;\">7.8958</td></tr><tr><td class = \"rowNumber\" style = \"font-weight: bold; text-align: right;\">707</td><td style = \"text-align: right;\">883</td><td style = \"text-align: right;\">0</td><td style = \"text-align: right;\">3</td><td style = \"text-align: left;\">female</td><td style = \"text-align: right;\">22.0</td><td style = \"text-align: right;\">0</td><td style = \"text-align: right;\">0</td><td style = \"text-align: right;\">10.5167</td></tr><tr><td class = \"rowNumber\" style = \"font-weight: bold; text-align: right;\">708</td><td style = \"text-align: right;\">884</td><td style = \"text-align: right;\">0</td><td style = \"text-align: right;\">2</td><td style = \"text-align: left;\">male</td><td style = \"text-align: right;\">28.0</td><td style = \"text-align: right;\">0</td><td style = \"text-align: right;\">0</td><td style = \"text-align: right;\">10.5</td></tr><tr><td class = \"rowNumber\" style = \"font-weight: bold; text-align: right;\">709</td><td style = \"text-align: right;\">885</td><td style = \"text-align: right;\">0</td><td style = \"text-align: right;\">3</td><td style = \"text-align: left;\">male</td><td style = \"text-align: right;\">25.0</td><td style = \"text-align: right;\">0</td><td style = \"text-align: right;\">0</td><td style = \"text-align: right;\">7.05</td></tr><tr><td class = \"rowNumber\" style = \"font-weight: bold; text-align: right;\">710</td><td style = \"text-align: right;\">886</td><td style = \"text-align: right;\">0</td><td style = \"text-align: right;\">3</td><td style = \"text-align: left;\">female</td><td style = \"text-align: right;\">39.0</td><td style = \"text-align: right;\">0</td><td style = \"text-align: right;\">5</td><td style = \"text-align: right;\">29.125</td></tr><tr><td class = \"rowNumber\" style = \"font-weight: bold; text-align: right;\">711</td><td style = \"text-align: right;\">887</td><td style = \"text-align: right;\">0</td><td style = \"text-align: right;\">2</td><td style = \"text-align: left;\">male</td><td style = \"text-align: right;\">27.0</td><td style = \"text-align: right;\">0</td><td style = \"text-align: right;\">0</td><td style = \"text-align: right;\">13.0</td></tr><tr><td class = \"rowNumber\" style = \"font-weight: bold; text-align: right;\">712</td><td style = \"text-align: right;\">888</td><td style = \"text-align: right;\">1</td><td style = \"text-align: right;\">1</td><td style = \"text-align: left;\">female</td><td style = \"text-align: right;\">19.0</td><td style = \"text-align: right;\">0</td><td style = \"text-align: right;\">0</td><td style = \"text-align: right;\">30.0</td></tr><tr><td class = \"rowNumber\" style = \"font-weight: bold; text-align: right;\">713</td><td style = \"text-align: right;\">890</td><td style = \"text-align: right;\">1</td><td style = \"text-align: right;\">1</td><td style = \"text-align: left;\">male</td><td style = \"text-align: right;\">26.0</td><td style = \"text-align: right;\">0</td><td style = \"text-align: right;\">0</td><td style = \"text-align: right;\">30.0</td></tr><tr><td class = \"rowNumber\" style = \"font-weight: bold; text-align: right;\">714</td><td style = \"text-align: right;\">891</td><td style = \"text-align: right;\">0</td><td style = \"text-align: right;\">3</td><td style = \"text-align: left;\">male</td><td style = \"text-align: right;\">32.0</td><td style = \"text-align: right;\">0</td><td style = \"text-align: right;\">0</td><td style = \"text-align: right;\">7.75</td></tr></tbody></table></div>"
      ],
      "text/latex": [
       "\\begin{tabular}{r|cccccccc}\n",
       "\t& PassengerId & Survived & Pclass & Sex & Age & SibSp & Parch & Fare\\\\\n",
       "\t\\hline\n",
       "\t& Int64 & Int64 & Int64 & String7 & Float64 & Int64 & Int64 & Float64\\\\\n",
       "\t\\hline\n",
       "\t1 & 1 & 0 & 3 & male & 22.0 & 1 & 0 & 7.25 \\\\\n",
       "\t2 & 2 & 1 & 1 & female & 38.0 & 1 & 0 & 71.2833 \\\\\n",
       "\t3 & 3 & 1 & 3 & female & 26.0 & 0 & 0 & 7.925 \\\\\n",
       "\t4 & 4 & 1 & 1 & female & 35.0 & 1 & 0 & 53.1 \\\\\n",
       "\t5 & 5 & 0 & 3 & male & 35.0 & 0 & 0 & 8.05 \\\\\n",
       "\t6 & 7 & 0 & 1 & male & 54.0 & 0 & 0 & 51.8625 \\\\\n",
       "\t7 & 8 & 0 & 3 & male & 2.0 & 3 & 1 & 21.075 \\\\\n",
       "\t8 & 9 & 1 & 3 & female & 27.0 & 0 & 2 & 11.1333 \\\\\n",
       "\t9 & 10 & 1 & 2 & female & 14.0 & 1 & 0 & 30.0708 \\\\\n",
       "\t10 & 11 & 1 & 3 & female & 4.0 & 1 & 1 & 16.7 \\\\\n",
       "\t11 & 12 & 1 & 1 & female & 58.0 & 0 & 0 & 26.55 \\\\\n",
       "\t12 & 13 & 0 & 3 & male & 20.0 & 0 & 0 & 8.05 \\\\\n",
       "\t13 & 14 & 0 & 3 & male & 39.0 & 1 & 5 & 31.275 \\\\\n",
       "\t14 & 15 & 0 & 3 & female & 14.0 & 0 & 0 & 7.8542 \\\\\n",
       "\t15 & 16 & 1 & 2 & female & 55.0 & 0 & 0 & 16.0 \\\\\n",
       "\t16 & 17 & 0 & 3 & male & 2.0 & 4 & 1 & 29.125 \\\\\n",
       "\t17 & 19 & 0 & 3 & female & 31.0 & 1 & 0 & 18.0 \\\\\n",
       "\t18 & 21 & 0 & 2 & male & 35.0 & 0 & 0 & 26.0 \\\\\n",
       "\t19 & 22 & 1 & 2 & male & 34.0 & 0 & 0 & 13.0 \\\\\n",
       "\t20 & 23 & 1 & 3 & female & 15.0 & 0 & 0 & 8.0292 \\\\\n",
       "\t21 & 24 & 1 & 1 & male & 28.0 & 0 & 0 & 35.5 \\\\\n",
       "\t22 & 25 & 0 & 3 & female & 8.0 & 3 & 1 & 21.075 \\\\\n",
       "\t23 & 26 & 1 & 3 & female & 38.0 & 1 & 5 & 31.3875 \\\\\n",
       "\t24 & 28 & 0 & 1 & male & 19.0 & 3 & 2 & 263.0 \\\\\n",
       "\t$\\dots$ & $\\dots$ & $\\dots$ & $\\dots$ & $\\dots$ & $\\dots$ & $\\dots$ & $\\dots$ & $\\dots$ \\\\\n",
       "\\end{tabular}\n"
      ],
      "text/plain": [
       "\u001b[1m714×8 DataFrame\u001b[0m\n",
       "\u001b[1m Row \u001b[0m│\u001b[1m PassengerId \u001b[0m\u001b[1m Survived \u001b[0m\u001b[1m Pclass \u001b[0m\u001b[1m Sex     \u001b[0m\u001b[1m Age     \u001b[0m\u001b[1m SibSp \u001b[0m\u001b[1m Parch \u001b[0m\u001b[1m Fare    \u001b[0m\n",
       "     │\u001b[90m Int64       \u001b[0m\u001b[90m Int64    \u001b[0m\u001b[90m Int64  \u001b[0m\u001b[90m String7 \u001b[0m\u001b[90m Float64 \u001b[0m\u001b[90m Int64 \u001b[0m\u001b[90m Int64 \u001b[0m\u001b[90m Float64 \u001b[0m\n",
       "─────┼────────────────────────────────────────────────────────────────────────\n",
       "   1 │           1         0       3  male        22.0      1      0   7.25\n",
       "   2 │           2         1       1  female      38.0      1      0  71.2833\n",
       "   3 │           3         1       3  female      26.0      0      0   7.925\n",
       "   4 │           4         1       1  female      35.0      1      0  53.1\n",
       "   5 │           5         0       3  male        35.0      0      0   8.05\n",
       "   6 │           7         0       1  male        54.0      0      0  51.8625\n",
       "   7 │           8         0       3  male         2.0      3      1  21.075\n",
       "   8 │           9         1       3  female      27.0      0      2  11.1333\n",
       "  ⋮  │      ⋮          ⋮        ⋮        ⋮        ⋮       ⋮      ⋮       ⋮\n",
       " 708 │         884         0       2  male        28.0      0      0  10.5\n",
       " 709 │         885         0       3  male        25.0      0      0   7.05\n",
       " 710 │         886         0       3  female      39.0      0      5  29.125\n",
       " 711 │         887         0       2  male        27.0      0      0  13.0\n",
       " 712 │         888         1       1  female      19.0      0      0  30.0\n",
       " 713 │         890         1       1  male        26.0      0      0  30.0\n",
       " 714 │         891         0       3  male        32.0      0      0   7.75\n",
       "\u001b[36m                                                              699 rows omitted\u001b[0m"
      ]
     },
     "metadata": {},
     "output_type": "display_data"
    }
   ],
   "source": [
    "# Handle missing values, for example by removing rows with missing values\n",
    "df = dropmissing(df)"
   ]
  },
  {
   "cell_type": "code",
   "execution_count": 63,
   "metadata": {},
   "outputs": [],
   "source": [
    "# Convert categorical columns to proper MLJ format\n",
    "categorical_columns = [:Sex, :Pclass]\n",
    "for col in categorical_columns\n",
    "    df[!, col] = categorical(df[!, col])\n",
    "end"
   ]
  },
  {
   "cell_type": "code",
   "execution_count": 64,
   "metadata": {},
   "outputs": [
    {
     "data": {
      "text/plain": [
       "([510, 333, 424, 80, 541, 678, 86, 281, 704, 247  …  413, 622, 564, 561, 198, 604, 10, 284, 345, 307], [676, 634, 193, 448, 477, 95, 417, 475, 364, 111  …  539, 712, 563, 347, 536, 278, 630, 137, 61, 443])"
      ]
     },
     "metadata": {},
     "output_type": "display_data"
    }
   ],
   "source": [
    "# split the data\n",
    "y, X = unpack(df, ==(:Survived));  # Survived is the target variable\n",
    "train, test = partition(eachindex(y), 0.7, shuffle=true)  # 70% train, 30% test"
   ]
  },
  {
   "cell_type": "code",
   "execution_count": 66,
   "metadata": {},
   "outputs": [
    {
     "name": "stdout",
     "output_type": "stream",
     "text": [
      "AdaBoostStumpClassifier\n",
      "DecisionTreeClassifier\n",
      "DecisionTreeRegressor\n"
     ]
    },
    {
     "name": "stdout",
     "output_type": "stream",
     "text": [
      "RandomForestClassifier\n",
      "RandomForestRegressor\n"
     ]
    }
   ],
   "source": [
    "# check if DecisionTree is available\n",
    "for model in models()\n",
    "    if occursin(\"DecisionTree\", model.package_name)\n",
    "        println(model.name)\n",
    "    end\n",
    "end"
   ]
  },
  {
   "cell_type": "code",
   "execution_count": 69,
   "metadata": {},
   "outputs": [
    {
     "name": "stdout",
     "output_type": "stream",
     "text": [
      "import BetaML ✔\n"
     ]
    },
    {
     "name": "stderr",
     "output_type": "stream",
     "text": [
      "┌ Info: For silent loading, specify `verbosity=0`. \n",
      "└ @ Main /Users/abhi/.julia/packages/MLJModels/L1gIK/src/loading.jl:159\n"
     ]
    },
    {
     "data": {
      "text/plain": [
       "BetaML.Trees.DecisionTreeClassifier"
      ]
     },
     "metadata": {},
     "output_type": "display_data"
    }
   ],
   "source": [
    "# Load the DecisionTreeClassifier\n",
    "tree_model = @load DecisionTreeClassifier pkg=BetaML\n"
   ]
  },
  {
   "cell_type": "code",
   "execution_count": 73,
   "metadata": {},
   "outputs": [
    {
     "data": {
      "text/plain": [
       "DecisionTreeClassifier(\n",
       "  max_depth = 0, \n",
       "  min_gain = 0.0, \n",
       "  min_records = 2, \n",
       "  max_features = 0, \n",
       "  splitting_criterion = BetaML.Utils.gini, \n",
       "  rng = Random._GLOBAL_RNG())"
      ]
     },
     "metadata": {},
     "output_type": "display_data"
    }
   ],
   "source": [
    "tree_model = BetaML.DecisionTreeClassifier()"
   ]
  },
  {
   "cell_type": "code",
   "execution_count": 76,
   "metadata": {},
   "outputs": [
    {
     "name": "stderr",
     "output_type": "stream",
     "text": [
      "┌ Warning: The number and/or types of data arguments do not match what the specified model\n",
      "│ supports. Suppress this type check by specifying `scitype_check_level=0`.\n",
      "│ \n",
      "│ Run `@doc BetaML.DecisionTreeClassifier` to learn more about your model's requirements.\n",
      "│ \n",
      "│ Commonly, but non exclusively, supervised models are constructed using the syntax\n",
      "│ `machine(model, X, y)` or `machine(model, X, y, w)` while most other models are\n",
      "│ constructed with `machine(model, X)`.  Here `X` are features, `y` a target, and `w`\n",
      "│ sample or class weights.\n",
      "│ \n",
      "│ In general, data in `machine(model, data...)` is expected to satisfy\n",
      "│ \n",
      "│     scitype(data) <: MLJ.fit_data_scitype(model)\n",
      "│ \n",
      "│ In the present case:\n",
      "│ \n",
      "│ scitype(data) = Tuple{Table{Union{AbstractVector{Continuous}, AbstractVector{Count}, AbstractVector{Multiclass{3}}, AbstractVector{Multiclass{2}}}}, AbstractVector{Count}}\n",
      "│ \n",
      "│ fit_data_scitype(model) = Tuple{Table{<:AbstractVector{<:Union{Missing, Known}}}, AbstractVector{<:Union{Missing, Finite}}}\n",
      "└ @ MLJBase /Users/abhi/.julia/packages/MLJBase/fEiP2/src/machines.jl:230\n",
      "┌ Info: Training machine(DecisionTreeClassifier(max_depth = 0, …), …).\n",
      "└ @ MLJBase /Users/abhi/.julia/packages/MLJBase/fEiP2/src/machines.jl:492\n"
     ]
    },
    {
     "data": {
      "text/plain": [
       "trained Machine; caches model-specific representations of data\n",
       "  model: DecisionTreeClassifier(max_depth = 0, …)\n",
       "  args: \n",
       "    1:\tSource @217 ⏎ Table{Union{AbstractVector{Continuous}, AbstractVector{Count}, AbstractVector{Multiclass{3}}, AbstractVector{Multiclass{2}}}}\n",
       "    2:\tSource @035 ⏎ AbstractVector{Count}\n"
      ]
     },
     "metadata": {},
     "output_type": "display_data"
    }
   ],
   "source": [
    "# Train the model\n",
    "tree = machine(tree_model, X, y)\n",
    "MLJ.fit!(tree, rows=train)"
   ]
  },
  {
   "cell_type": "code",
   "execution_count": 84,
   "metadata": {},
   "outputs": [
    {
     "ename": "MethodError",
     "evalue": "MethodError: no method matching classes(::Int64)\n\nClosest candidates are:\n  classes(!Matched::CategoricalArrays.CategoricalPool)\n   @ CategoricalDistributions ~/.julia/packages/CategoricalDistributions/UmKVV/src/utilities.jl:58\n  classes(!Matched::CategoricalArrays.CategoricalValue)\n   @ CategoricalDistributions ~/.julia/packages/CategoricalDistributions/UmKVV/src/utilities.jl:59\n  classes(!Matched::CategoricalArrays.CategoricalArray)\n   @ CategoricalDistributions ~/.julia/packages/CategoricalDistributions/UmKVV/src/utilities.jl:60\n  ...\n",
     "output_type": "error",
     "traceback": [
      "MethodError: no method matching classes(::Int64)\n",
      "\n",
      "Closest candidates are:\n",
      "  classes(!Matched::CategoricalArrays.CategoricalPool)\n",
      "   @ CategoricalDistributions ~/.julia/packages/CategoricalDistributions/UmKVV/src/utilities.jl:58\n",
      "  classes(!Matched::CategoricalArrays.CategoricalValue)\n",
      "   @ CategoricalDistributions ~/.julia/packages/CategoricalDistributions/UmKVV/src/utilities.jl:59\n",
      "  classes(!Matched::CategoricalArrays.CategoricalArray)\n",
      "   @ CategoricalDistributions ~/.julia/packages/CategoricalDistributions/UmKVV/src/utilities.jl:60\n",
      "  ...\n",
      "\n",
      "\n",
      "Stacktrace:\n",
      " [1] decoder(x::Int64)\n",
      "   @ CategoricalDistributions ~/.julia/packages/CategoricalDistributions/UmKVV/src/utilities.jl:135\n",
      " [2] decoder(#unused#::MLJModelInterface.FullInterface, x::Int64)\n",
      "   @ MLJBase ~/.julia/packages/MLJBase/fEiP2/src/interface/data_utils.jl:36\n",
      " [3] decoder(x::Int64)\n",
      "   @ MLJModelInterface ~/.julia/packages/MLJModelInterface/io0Lg/src/data_utils.jl:261\n",
      " [4] predict(model::BetaML.Trees.DecisionTreeClassifier, fitresult::Tuple{DecisionNode{CategoricalArrays.CategoricalValue{String7, UInt32}}, Int64}, Xnew::DataFrame)\n",
      "   @ BetaML.Trees ~/.julia/packages/BetaML/r7gn5/src/Trees/Trees_MLJ.jl:363\n",
      " [5] predict(mach::Machine{BetaML.Trees.DecisionTreeClassifier, true}; rows::Vector{Int64})\n",
      "   @ MLJBase ~/.julia/packages/MLJBase/fEiP2/src/operations.jl:86\n",
      " [6] top-level scope\n",
      "   @ ~/Minho/DAA/Practical/Lab-2/daa_pl_2_jl.ipynb:3"
     ]
    }
   ],
   "source": [
    "# Evaluate the model\n",
    "y = categorical(y)\n",
    "y_pred = MLJ.predict(tree, rows=test)"
   ]
  },
  {
   "cell_type": "code",
   "execution_count": null,
   "metadata": {},
   "outputs": [],
   "source": []
  }
 ],
 "metadata": {
  "kernelspec": {
   "display_name": "Julia 1.9.3",
   "language": "julia",
   "name": "julia-1.9"
  },
  "language_info": {
   "file_extension": ".jl",
   "mimetype": "application/julia",
   "name": "julia",
   "version": "1.9.3"
  }
 },
 "nbformat": 4,
 "nbformat_minor": 2
}
